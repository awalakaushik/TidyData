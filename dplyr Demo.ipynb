{
 "cells": [
  {
   "cell_type": "markdown",
   "metadata": {},
   "source": [
    "# dplyr Demo\n",
    "\n",
    "This is a demo to walk through dplyr.  Dplyr is another of the tidyverse packages, and we've already seen a little bit of it.  This demo is based on a [blog post by Gerald Belton](https://www.r-bloggers.com/more-tidyverse-using-dplyr-functions/), along with my additions.\n"
   ]
  },
  {
   "cell_type": "code",
   "execution_count": null,
   "metadata": {
    "collapsed": false
   },
   "outputs": [],
   "source": [
    "#I needed to install these packages separately to get tidyverse and gapminder to load.\n",
    "install.packages('nlme', repos = \"http://cran.us.r-project.org\", dependencies = TRUE)\n",
    "install.packages('foreign', repos = \"http://cran.us.r-project.org\", dependencies = TRUE)\n",
    "\n",
    "install.packages('tidyverse', repos = \"http://cran.us.r-project.org\", dependencies = TRUE)\n",
    "install.packages('gapminder', repos = \"http://cran.us.r-project.org\", dependencies = TRUE)"
   ]
  },
  {
   "cell_type": "code",
   "execution_count": 1,
   "metadata": {
    "collapsed": false
   },
   "outputs": [
    {
     "name": "stderr",
     "output_type": "stream",
     "text": [
      "Warning message:\n",
      "\"package 'tidyverse' was built under R version 3.3.3\"Loading tidyverse: ggplot2\n",
      "Loading tidyverse: tibble\n",
      "Loading tidyverse: tidyr\n",
      "Loading tidyverse: readr\n",
      "Loading tidyverse: purrr\n",
      "Loading tidyverse: dplyr\n",
      "Warning message:\n",
      "\"package 'ggplot2' was built under R version 3.3.3\"Warning message:\n",
      "\"package 'tidyr' was built under R version 3.3.3\"Warning message:\n",
      "\"package 'readr' was built under R version 3.3.3\"Warning message:\n",
      "\"package 'dplyr' was built under R version 3.3.3\"Conflicts with tidy packages ---------------------------------------------------\n",
      "filter(): dplyr, stats\n",
      "lag():    dplyr, stats\n",
      "Warning message:\n",
      "\"package 'gapminder' was built under R version 3.3.3\""
     ]
    }
   ],
   "source": [
    "library(tidyverse)\n",
    "library(gapminder)"
   ]
  },
  {
   "cell_type": "markdown",
   "metadata": {},
   "source": [
    "First we can perform some basic filters of the data to get an idea of some of the extremes."
   ]
  },
  {
   "cell_type": "code",
   "execution_count": 2,
   "metadata": {
    "collapsed": false
   },
   "outputs": [
    {
     "data": {
      "text/html": [
       "<table>\n",
       "<thead><tr><th scope=col>country</th><th scope=col>continent</th><th scope=col>year</th><th scope=col>lifeExp</th><th scope=col>pop</th><th scope=col>gdpPercap</th></tr></thead>\n",
       "<tbody>\n",
       "\t<tr><td>Afghanistan</td><td>Asia       </td><td>1952       </td><td>28.801     </td><td>8425333    </td><td>779.4453   </td></tr>\n",
       "\t<tr><td>Rwanda     </td><td>Africa     </td><td>1992       </td><td>23.599     </td><td>7290203    </td><td>737.0686   </td></tr>\n",
       "</tbody>\n",
       "</table>\n"
      ],
      "text/latex": [
       "\\begin{tabular}{r|llllll}\n",
       " country & continent & year & lifeExp & pop & gdpPercap\\\\\n",
       "\\hline\n",
       "\t Afghanistan & Asia        & 1952        & 28.801      & 8425333     & 779.4453   \\\\\n",
       "\t Rwanda      & Africa      & 1992        & 23.599      & 7290203     & 737.0686   \\\\\n",
       "\\end{tabular}\n"
      ],
      "text/markdown": [
       "\n",
       "country | continent | year | lifeExp | pop | gdpPercap | \n",
       "|---|---|\n",
       "| Afghanistan | Asia        | 1952        | 28.801      | 8425333     | 779.4453    | \n",
       "| Rwanda      | Africa      | 1992        | 23.599      | 7290203     | 737.0686    | \n",
       "\n",
       "\n"
      ],
      "text/plain": [
       "  country     continent year lifeExp pop     gdpPercap\n",
       "1 Afghanistan Asia      1952 28.801  8425333 779.4453 \n",
       "2 Rwanda      Africa    1992 23.599  7290203 737.0686 "
      ]
     },
     "metadata": {},
     "output_type": "display_data"
    },
    {
     "data": {
      "text/html": [
       "<table>\n",
       "<thead><tr><th scope=col>country</th><th scope=col>continent</th><th scope=col>year</th><th scope=col>lifeExp</th><th scope=col>pop</th><th scope=col>gdpPercap</th></tr></thead>\n",
       "<tbody>\n",
       "\t<tr><td>Hong Kong, China</td><td>Asia            </td><td>2007            </td><td>82.208          </td><td>  6980412       </td><td>39724.98        </td></tr>\n",
       "\t<tr><td>Iceland         </td><td>Europe          </td><td>2007            </td><td>81.757          </td><td>   301931       </td><td>36180.79        </td></tr>\n",
       "\t<tr><td>Japan           </td><td>Asia            </td><td>2002            </td><td>82.000          </td><td>127065841       </td><td>28604.59        </td></tr>\n",
       "\t<tr><td>Japan           </td><td>Asia            </td><td>2007            </td><td>82.603          </td><td>127467972       </td><td>31656.07        </td></tr>\n",
       "\t<tr><td>Switzerland     </td><td>Europe          </td><td>2007            </td><td>81.701          </td><td>  7554661       </td><td>37506.42        </td></tr>\n",
       "</tbody>\n",
       "</table>\n"
      ],
      "text/latex": [
       "\\begin{tabular}{r|llllll}\n",
       " country & continent & year & lifeExp & pop & gdpPercap\\\\\n",
       "\\hline\n",
       "\t Hong Kong, China & Asia             & 2007             & 82.208           &   6980412        & 39724.98        \\\\\n",
       "\t Iceland          & Europe           & 2007             & 81.757           &    301931        & 36180.79        \\\\\n",
       "\t Japan            & Asia             & 2002             & 82.000           & 127065841        & 28604.59        \\\\\n",
       "\t Japan            & Asia             & 2007             & 82.603           & 127467972        & 31656.07        \\\\\n",
       "\t Switzerland      & Europe           & 2007             & 81.701           &   7554661        & 37506.42        \\\\\n",
       "\\end{tabular}\n"
      ],
      "text/markdown": [
       "\n",
       "country | continent | year | lifeExp | pop | gdpPercap | \n",
       "|---|---|---|---|---|\n",
       "| Hong Kong, China | Asia             | 2007             | 82.208           |   6980412        | 39724.98         | \n",
       "| Iceland          | Europe           | 2007             | 81.757           |    301931        | 36180.79         | \n",
       "| Japan            | Asia             | 2002             | 82.000           | 127065841        | 28604.59         | \n",
       "| Japan            | Asia             | 2007             | 82.603           | 127467972        | 31656.07         | \n",
       "| Switzerland      | Europe           | 2007             | 81.701           |   7554661        | 37506.42         | \n",
       "\n",
       "\n"
      ],
      "text/plain": [
       "  country          continent year lifeExp pop       gdpPercap\n",
       "1 Hong Kong, China Asia      2007 82.208    6980412 39724.98 \n",
       "2 Iceland          Europe    2007 81.757     301931 36180.79 \n",
       "3 Japan            Asia      2002 82.000  127065841 28604.59 \n",
       "4 Japan            Asia      2007 82.603  127467972 31656.07 \n",
       "5 Switzerland      Europe    2007 81.701    7554661 37506.42 "
      ]
     },
     "metadata": {},
     "output_type": "display_data"
    }
   ],
   "source": [
    "filter(gapminder, lifeExp < 30)\n",
    "filter(gapminder, lifeExp > 81.5)"
   ]
  },
  {
   "cell_type": "markdown",
   "metadata": {},
   "source": [
    "dplyr does not have an AND clause; instead, we can chain together logical AND statements with commas."
   ]
  },
  {
   "cell_type": "code",
   "execution_count": 3,
   "metadata": {
    "collapsed": false
   },
   "outputs": [
    {
     "data": {
      "text/html": [
       "<table>\n",
       "<thead><tr><th scope=col>country</th><th scope=col>continent</th><th scope=col>year</th><th scope=col>lifeExp</th><th scope=col>pop</th><th scope=col>gdpPercap</th></tr></thead>\n",
       "<tbody>\n",
       "\t<tr><td>Canada       </td><td>Americas     </td><td>2007         </td><td>80.653       </td><td> 33390141    </td><td>36319.24     </td></tr>\n",
       "\t<tr><td>United States</td><td>Americas     </td><td>2002         </td><td>77.310       </td><td>287675526    </td><td>39097.10     </td></tr>\n",
       "\t<tr><td>United States</td><td>Americas     </td><td>2007         </td><td>78.242       </td><td>301139947    </td><td>42951.65     </td></tr>\n",
       "</tbody>\n",
       "</table>\n"
      ],
      "text/latex": [
       "\\begin{tabular}{r|llllll}\n",
       " country & continent & year & lifeExp & pop & gdpPercap\\\\\n",
       "\\hline\n",
       "\t Canada        & Americas      & 2007          & 80.653        &  33390141     & 36319.24     \\\\\n",
       "\t United States & Americas      & 2002          & 77.310        & 287675526     & 39097.10     \\\\\n",
       "\t United States & Americas      & 2007          & 78.242        & 301139947     & 42951.65     \\\\\n",
       "\\end{tabular}\n"
      ],
      "text/markdown": [
       "\n",
       "country | continent | year | lifeExp | pop | gdpPercap | \n",
       "|---|---|---|\n",
       "| Canada        | Americas      | 2007          | 80.653        |  33390141     | 36319.24      | \n",
       "| United States | Americas      | 2002          | 77.310        | 287675526     | 39097.10      | \n",
       "| United States | Americas      | 2007          | 78.242        | 301139947     | 42951.65      | \n",
       "\n",
       "\n"
      ],
      "text/plain": [
       "  country       continent year lifeExp pop       gdpPercap\n",
       "1 Canada        Americas  2007 80.653   33390141 36319.24 \n",
       "2 United States Americas  2002 77.310  287675526 39097.10 \n",
       "3 United States Americas  2007 78.242  301139947 42951.65 "
      ]
     },
     "metadata": {},
     "output_type": "display_data"
    }
   ],
   "source": [
    "filter(gapminder, pop > 20000000, gdpPercap > 36000)"
   ]
  },
  {
   "cell_type": "markdown",
   "metadata": {},
   "source": [
    "Similarly, the single pipe (|) acts as the OR operator."
   ]
  },
  {
   "cell_type": "code",
   "execution_count": 4,
   "metadata": {
    "collapsed": false
   },
   "outputs": [
    {
     "data": {
      "text/html": [
       "<table>\n",
       "<thead><tr><th scope=col>country</th><th scope=col>continent</th><th scope=col>year</th><th scope=col>lifeExp</th><th scope=col>pop</th><th scope=col>gdpPercap</th></tr></thead>\n",
       "<tbody>\n",
       "\t<tr><td>China     </td><td>Asia      </td><td>1997      </td><td>70.426    </td><td>1230075000</td><td>  2289.234</td></tr>\n",
       "\t<tr><td>China     </td><td>Asia      </td><td>2002      </td><td>72.028    </td><td>1280400000</td><td>  3119.281</td></tr>\n",
       "\t<tr><td>China     </td><td>Asia      </td><td>2007      </td><td>72.961    </td><td>1318683096</td><td>  4959.115</td></tr>\n",
       "\t<tr><td>Kuwait    </td><td>Asia      </td><td>1952      </td><td>55.565    </td><td>    160000</td><td>108382.353</td></tr>\n",
       "\t<tr><td>Kuwait    </td><td>Asia      </td><td>1957      </td><td>58.033    </td><td>    212846</td><td>113523.133</td></tr>\n",
       "\t<tr><td>Kuwait    </td><td>Asia      </td><td>1972      </td><td>67.712    </td><td>    841934</td><td>109347.867</td></tr>\n",
       "</tbody>\n",
       "</table>\n"
      ],
      "text/latex": [
       "\\begin{tabular}{r|llllll}\n",
       " country & continent & year & lifeExp & pop & gdpPercap\\\\\n",
       "\\hline\n",
       "\t China      & Asia       & 1997       & 70.426     & 1230075000 &   2289.234\\\\\n",
       "\t China      & Asia       & 2002       & 72.028     & 1280400000 &   3119.281\\\\\n",
       "\t China      & Asia       & 2007       & 72.961     & 1318683096 &   4959.115\\\\\n",
       "\t Kuwait     & Asia       & 1952       & 55.565     &     160000 & 108382.353\\\\\n",
       "\t Kuwait     & Asia       & 1957       & 58.033     &     212846 & 113523.133\\\\\n",
       "\t Kuwait     & Asia       & 1972       & 67.712     &     841934 & 109347.867\\\\\n",
       "\\end{tabular}\n"
      ],
      "text/markdown": [
       "\n",
       "country | continent | year | lifeExp | pop | gdpPercap | \n",
       "|---|---|---|---|---|---|\n",
       "| China      | Asia       | 1997       | 70.426     | 1230075000 |   2289.234 | \n",
       "| China      | Asia       | 2002       | 72.028     | 1280400000 |   3119.281 | \n",
       "| China      | Asia       | 2007       | 72.961     | 1318683096 |   4959.115 | \n",
       "| Kuwait     | Asia       | 1952       | 55.565     |     160000 | 108382.353 | \n",
       "| Kuwait     | Asia       | 1957       | 58.033     |     212846 | 113523.133 | \n",
       "| Kuwait     | Asia       | 1972       | 67.712     |     841934 | 109347.867 | \n",
       "\n",
       "\n"
      ],
      "text/plain": [
       "  country continent year lifeExp pop        gdpPercap \n",
       "1 China   Asia      1997 70.426  1230075000   2289.234\n",
       "2 China   Asia      2002 72.028  1280400000   3119.281\n",
       "3 China   Asia      2007 72.961  1318683096   4959.115\n",
       "4 Kuwait  Asia      1952 55.565      160000 108382.353\n",
       "5 Kuwait  Asia      1957 58.033      212846 113523.133\n",
       "6 Kuwait  Asia      1972 67.712      841934 109347.867"
      ]
     },
     "metadata": {},
     "output_type": "display_data"
    }
   ],
   "source": [
    "filter(gapminder, pop > 1200000000 | gdpPercap > 100000)"
   ]
  },
  {
   "cell_type": "markdown",
   "metadata": {},
   "source": [
    "The `select` function allows you to select specific variables from the data frame."
   ]
  },
  {
   "cell_type": "code",
   "execution_count": 5,
   "metadata": {
    "collapsed": false
   },
   "outputs": [
    {
     "data": {
      "text/html": [
       "<table>\n",
       "<thead><tr><th scope=col>year</th><th scope=col>lifeExp</th></tr></thead>\n",
       "<tbody>\n",
       "\t<tr><td>1952  </td><td>28.801</td></tr>\n",
       "\t<tr><td>1957  </td><td>30.332</td></tr>\n",
       "\t<tr><td>1962  </td><td>31.997</td></tr>\n",
       "\t<tr><td>1967  </td><td>34.020</td></tr>\n",
       "\t<tr><td>1972  </td><td>36.088</td></tr>\n",
       "\t<tr><td>1977  </td><td>38.438</td></tr>\n",
       "\t<tr><td>1982  </td><td>39.854</td></tr>\n",
       "\t<tr><td>1987  </td><td>40.822</td></tr>\n",
       "\t<tr><td>1992  </td><td>41.674</td></tr>\n",
       "\t<tr><td>1997  </td><td>41.763</td></tr>\n",
       "\t<tr><td>2002  </td><td>42.129</td></tr>\n",
       "\t<tr><td>2007  </td><td>43.828</td></tr>\n",
       "\t<tr><td>1952  </td><td>55.230</td></tr>\n",
       "\t<tr><td>1957  </td><td>59.280</td></tr>\n",
       "\t<tr><td>1962  </td><td>64.820</td></tr>\n",
       "\t<tr><td>1967  </td><td>66.220</td></tr>\n",
       "\t<tr><td>1972  </td><td>67.690</td></tr>\n",
       "\t<tr><td>1977  </td><td>68.930</td></tr>\n",
       "\t<tr><td>1982  </td><td>70.420</td></tr>\n",
       "\t<tr><td>1987  </td><td>72.000</td></tr>\n",
       "\t<tr><td>1992  </td><td>71.581</td></tr>\n",
       "\t<tr><td>1997  </td><td>72.950</td></tr>\n",
       "\t<tr><td>2002  </td><td>75.651</td></tr>\n",
       "\t<tr><td>2007  </td><td>76.423</td></tr>\n",
       "\t<tr><td>1952  </td><td>43.077</td></tr>\n",
       "\t<tr><td>1957  </td><td>45.685</td></tr>\n",
       "\t<tr><td>1962  </td><td>48.303</td></tr>\n",
       "\t<tr><td>1967  </td><td>51.407</td></tr>\n",
       "\t<tr><td>1972  </td><td>54.518</td></tr>\n",
       "\t<tr><td>1977  </td><td>58.014</td></tr>\n",
       "\t<tr><td>...</td><td>...</td></tr>\n",
       "\t<tr><td>1982  </td><td>49.113</td></tr>\n",
       "\t<tr><td>1987  </td><td>52.922</td></tr>\n",
       "\t<tr><td>1992  </td><td>55.599</td></tr>\n",
       "\t<tr><td>1997  </td><td>58.020</td></tr>\n",
       "\t<tr><td>2002  </td><td>60.308</td></tr>\n",
       "\t<tr><td>2007  </td><td>62.698</td></tr>\n",
       "\t<tr><td>1952  </td><td>42.038</td></tr>\n",
       "\t<tr><td>1957  </td><td>44.077</td></tr>\n",
       "\t<tr><td>1962  </td><td>46.023</td></tr>\n",
       "\t<tr><td>1967  </td><td>47.768</td></tr>\n",
       "\t<tr><td>1972  </td><td>50.107</td></tr>\n",
       "\t<tr><td>1977  </td><td>51.386</td></tr>\n",
       "\t<tr><td>1982  </td><td>51.821</td></tr>\n",
       "\t<tr><td>1987  </td><td>50.821</td></tr>\n",
       "\t<tr><td>1992  </td><td>46.100</td></tr>\n",
       "\t<tr><td>1997  </td><td>40.238</td></tr>\n",
       "\t<tr><td>2002  </td><td>39.193</td></tr>\n",
       "\t<tr><td>2007  </td><td>42.384</td></tr>\n",
       "\t<tr><td>1952  </td><td>48.451</td></tr>\n",
       "\t<tr><td>1957  </td><td>50.469</td></tr>\n",
       "\t<tr><td>1962  </td><td>52.358</td></tr>\n",
       "\t<tr><td>1967  </td><td>53.995</td></tr>\n",
       "\t<tr><td>1972  </td><td>55.635</td></tr>\n",
       "\t<tr><td>1977  </td><td>57.674</td></tr>\n",
       "\t<tr><td>1982  </td><td>60.363</td></tr>\n",
       "\t<tr><td>1987  </td><td>62.351</td></tr>\n",
       "\t<tr><td>1992  </td><td>60.377</td></tr>\n",
       "\t<tr><td>1997  </td><td>46.809</td></tr>\n",
       "\t<tr><td>2002  </td><td>39.989</td></tr>\n",
       "\t<tr><td>2007  </td><td>43.487</td></tr>\n",
       "</tbody>\n",
       "</table>\n"
      ],
      "text/latex": [
       "\\begin{tabular}{r|ll}\n",
       " year & lifeExp\\\\\n",
       "\\hline\n",
       "\t 1952   & 28.801\\\\\n",
       "\t 1957   & 30.332\\\\\n",
       "\t 1962   & 31.997\\\\\n",
       "\t 1967   & 34.020\\\\\n",
       "\t 1972   & 36.088\\\\\n",
       "\t 1977   & 38.438\\\\\n",
       "\t 1982   & 39.854\\\\\n",
       "\t 1987   & 40.822\\\\\n",
       "\t 1992   & 41.674\\\\\n",
       "\t 1997   & 41.763\\\\\n",
       "\t 2002   & 42.129\\\\\n",
       "\t 2007   & 43.828\\\\\n",
       "\t 1952   & 55.230\\\\\n",
       "\t 1957   & 59.280\\\\\n",
       "\t 1962   & 64.820\\\\\n",
       "\t 1967   & 66.220\\\\\n",
       "\t 1972   & 67.690\\\\\n",
       "\t 1977   & 68.930\\\\\n",
       "\t 1982   & 70.420\\\\\n",
       "\t 1987   & 72.000\\\\\n",
       "\t 1992   & 71.581\\\\\n",
       "\t 1997   & 72.950\\\\\n",
       "\t 2002   & 75.651\\\\\n",
       "\t 2007   & 76.423\\\\\n",
       "\t 1952   & 43.077\\\\\n",
       "\t 1957   & 45.685\\\\\n",
       "\t 1962   & 48.303\\\\\n",
       "\t 1967   & 51.407\\\\\n",
       "\t 1972   & 54.518\\\\\n",
       "\t 1977   & 58.014\\\\\n",
       "\t ... & ...\\\\\n",
       "\t 1982   & 49.113\\\\\n",
       "\t 1987   & 52.922\\\\\n",
       "\t 1992   & 55.599\\\\\n",
       "\t 1997   & 58.020\\\\\n",
       "\t 2002   & 60.308\\\\\n",
       "\t 2007   & 62.698\\\\\n",
       "\t 1952   & 42.038\\\\\n",
       "\t 1957   & 44.077\\\\\n",
       "\t 1962   & 46.023\\\\\n",
       "\t 1967   & 47.768\\\\\n",
       "\t 1972   & 50.107\\\\\n",
       "\t 1977   & 51.386\\\\\n",
       "\t 1982   & 51.821\\\\\n",
       "\t 1987   & 50.821\\\\\n",
       "\t 1992   & 46.100\\\\\n",
       "\t 1997   & 40.238\\\\\n",
       "\t 2002   & 39.193\\\\\n",
       "\t 2007   & 42.384\\\\\n",
       "\t 1952   & 48.451\\\\\n",
       "\t 1957   & 50.469\\\\\n",
       "\t 1962   & 52.358\\\\\n",
       "\t 1967   & 53.995\\\\\n",
       "\t 1972   & 55.635\\\\\n",
       "\t 1977   & 57.674\\\\\n",
       "\t 1982   & 60.363\\\\\n",
       "\t 1987   & 62.351\\\\\n",
       "\t 1992   & 60.377\\\\\n",
       "\t 1997   & 46.809\\\\\n",
       "\t 2002   & 39.989\\\\\n",
       "\t 2007   & 43.487\\\\\n",
       "\\end{tabular}\n"
      ],
      "text/markdown": [
       "\n",
       "year | lifeExp | \n",
       "|---|---|---|---|---|---|---|---|---|---|---|---|---|---|---|---|---|---|---|---|---|---|---|---|---|---|---|---|---|---|---|---|---|---|---|---|---|---|---|---|---|---|---|---|---|---|---|---|---|---|---|---|---|---|---|---|---|---|---|---|---|\n",
       "| 1952   | 28.801 | \n",
       "| 1957   | 30.332 | \n",
       "| 1962   | 31.997 | \n",
       "| 1967   | 34.020 | \n",
       "| 1972   | 36.088 | \n",
       "| 1977   | 38.438 | \n",
       "| 1982   | 39.854 | \n",
       "| 1987   | 40.822 | \n",
       "| 1992   | 41.674 | \n",
       "| 1997   | 41.763 | \n",
       "| 2002   | 42.129 | \n",
       "| 2007   | 43.828 | \n",
       "| 1952   | 55.230 | \n",
       "| 1957   | 59.280 | \n",
       "| 1962   | 64.820 | \n",
       "| 1967   | 66.220 | \n",
       "| 1972   | 67.690 | \n",
       "| 1977   | 68.930 | \n",
       "| 1982   | 70.420 | \n",
       "| 1987   | 72.000 | \n",
       "| 1992   | 71.581 | \n",
       "| 1997   | 72.950 | \n",
       "| 2002   | 75.651 | \n",
       "| 2007   | 76.423 | \n",
       "| 1952   | 43.077 | \n",
       "| 1957   | 45.685 | \n",
       "| 1962   | 48.303 | \n",
       "| 1967   | 51.407 | \n",
       "| 1972   | 54.518 | \n",
       "| 1977   | 58.014 | \n",
       "| ... | ... | \n",
       "| 1982   | 49.113 | \n",
       "| 1987   | 52.922 | \n",
       "| 1992   | 55.599 | \n",
       "| 1997   | 58.020 | \n",
       "| 2002   | 60.308 | \n",
       "| 2007   | 62.698 | \n",
       "| 1952   | 42.038 | \n",
       "| 1957   | 44.077 | \n",
       "| 1962   | 46.023 | \n",
       "| 1967   | 47.768 | \n",
       "| 1972   | 50.107 | \n",
       "| 1977   | 51.386 | \n",
       "| 1982   | 51.821 | \n",
       "| 1987   | 50.821 | \n",
       "| 1992   | 46.100 | \n",
       "| 1997   | 40.238 | \n",
       "| 2002   | 39.193 | \n",
       "| 2007   | 42.384 | \n",
       "| 1952   | 48.451 | \n",
       "| 1957   | 50.469 | \n",
       "| 1962   | 52.358 | \n",
       "| 1967   | 53.995 | \n",
       "| 1972   | 55.635 | \n",
       "| 1977   | 57.674 | \n",
       "| 1982   | 60.363 | \n",
       "| 1987   | 62.351 | \n",
       "| 1992   | 60.377 | \n",
       "| 1997   | 46.809 | \n",
       "| 2002   | 39.989 | \n",
       "| 2007   | 43.487 | \n",
       "\n",
       "\n"
      ],
      "text/plain": [
       "     year lifeExp\n",
       "1    1952 28.801 \n",
       "2    1957 30.332 \n",
       "3    1962 31.997 \n",
       "4    1967 34.020 \n",
       "5    1972 36.088 \n",
       "6    1977 38.438 \n",
       "7    1982 39.854 \n",
       "8    1987 40.822 \n",
       "9    1992 41.674 \n",
       "10   1997 41.763 \n",
       "11   2002 42.129 \n",
       "12   2007 43.828 \n",
       "13   1952 55.230 \n",
       "14   1957 59.280 \n",
       "15   1962 64.820 \n",
       "16   1967 66.220 \n",
       "17   1972 67.690 \n",
       "18   1977 68.930 \n",
       "19   1982 70.420 \n",
       "20   1987 72.000 \n",
       "21   1992 71.581 \n",
       "22   1997 72.950 \n",
       "23   2002 75.651 \n",
       "24   2007 76.423 \n",
       "25   1952 43.077 \n",
       "26   1957 45.685 \n",
       "27   1962 48.303 \n",
       "28   1967 51.407 \n",
       "29   1972 54.518 \n",
       "30   1977 58.014 \n",
       "...  ...  ...    \n",
       "1675 1982 49.113 \n",
       "1676 1987 52.922 \n",
       "1677 1992 55.599 \n",
       "1678 1997 58.020 \n",
       "1679 2002 60.308 \n",
       "1680 2007 62.698 \n",
       "1681 1952 42.038 \n",
       "1682 1957 44.077 \n",
       "1683 1962 46.023 \n",
       "1684 1967 47.768 \n",
       "1685 1972 50.107 \n",
       "1686 1977 51.386 \n",
       "1687 1982 51.821 \n",
       "1688 1987 50.821 \n",
       "1689 1992 46.100 \n",
       "1690 1997 40.238 \n",
       "1691 2002 39.193 \n",
       "1692 2007 42.384 \n",
       "1693 1952 48.451 \n",
       "1694 1957 50.469 \n",
       "1695 1962 52.358 \n",
       "1696 1967 53.995 \n",
       "1697 1972 55.635 \n",
       "1698 1977 57.674 \n",
       "1699 1982 60.363 \n",
       "1700 1987 62.351 \n",
       "1701 1992 60.377 \n",
       "1702 1997 46.809 \n",
       "1703 2002 39.989 \n",
       "1704 2007 43.487 "
      ]
     },
     "metadata": {},
     "output_type": "display_data"
    }
   ],
   "source": [
    "select(gapminder, year, lifeExp)"
   ]
  },
  {
   "cell_type": "markdown",
   "metadata": {},
   "source": [
    "The pipe operator `%>%` is one of the most important operators in dplyr.  It allows you to take the ouptut from one operation and make it the input for the next operation."
   ]
  },
  {
   "cell_type": "code",
   "execution_count": 6,
   "metadata": {
    "collapsed": false
   },
   "outputs": [
    {
     "data": {
      "text/html": [
       "<table>\n",
       "<thead><tr><th scope=col>country</th><th scope=col>year</th><th scope=col>lifeExp</th></tr></thead>\n",
       "<tbody>\n",
       "\t<tr><td>China </td><td>1997  </td><td>70.426</td></tr>\n",
       "\t<tr><td>China </td><td>2002  </td><td>72.028</td></tr>\n",
       "\t<tr><td>China </td><td>2007  </td><td>72.961</td></tr>\n",
       "</tbody>\n",
       "</table>\n"
      ],
      "text/latex": [
       "\\begin{tabular}{r|lll}\n",
       " country & year & lifeExp\\\\\n",
       "\\hline\n",
       "\t China  & 1997   & 70.426\\\\\n",
       "\t China  & 2002   & 72.028\\\\\n",
       "\t China  & 2007   & 72.961\\\\\n",
       "\\end{tabular}\n"
      ],
      "text/markdown": [
       "\n",
       "country | year | lifeExp | \n",
       "|---|---|---|\n",
       "| China  | 1997   | 70.426 | \n",
       "| China  | 2002   | 72.028 | \n",
       "| China  | 2007   | 72.961 | \n",
       "\n",
       "\n"
      ],
      "text/plain": [
       "  country year lifeExp\n",
       "1 China   1997 70.426 \n",
       "2 China   2002 72.028 \n",
       "3 China   2007 72.961 "
      ]
     },
     "metadata": {},
     "output_type": "display_data"
    }
   ],
   "source": [
    "gapminder %>%\n",
    "  filter(pop > 1200000000) %>%\n",
    "  select(country, year, lifeExp)"
   ]
  },
  {
   "cell_type": "markdown",
   "metadata": {},
   "source": [
    "The `mutate` function lets you modify data frames.  In this example, we will add a new calculated variable."
   ]
  },
  {
   "cell_type": "code",
   "execution_count": 7,
   "metadata": {
    "collapsed": false
   },
   "outputs": [
    {
     "data": {
      "text/html": [
       "<table>\n",
       "<thead><tr><th scope=col>country</th><th scope=col>continent</th><th scope=col>year</th><th scope=col>lifeExp</th><th scope=col>pop</th><th scope=col>gdpPercap</th><th scope=col>gdp</th></tr></thead>\n",
       "<tbody>\n",
       "\t<tr><td>Afghanistan</td><td>Asia       </td><td>1952       </td><td>28.801     </td><td> 8425333   </td><td>779.4453   </td><td> 6567086330</td></tr>\n",
       "\t<tr><td>Afghanistan</td><td>Asia       </td><td>1957       </td><td>30.332     </td><td> 9240934   </td><td>820.8530   </td><td> 7585448670</td></tr>\n",
       "\t<tr><td>Afghanistan</td><td>Asia       </td><td>1962       </td><td>31.997     </td><td>10267083   </td><td>853.1007   </td><td> 8758855797</td></tr>\n",
       "\t<tr><td>Afghanistan</td><td>Asia       </td><td>1967       </td><td>34.020     </td><td>11537966   </td><td>836.1971   </td><td> 9648014150</td></tr>\n",
       "\t<tr><td>Afghanistan</td><td>Asia       </td><td>1972       </td><td>36.088     </td><td>13079460   </td><td>739.9811   </td><td> 9678553274</td></tr>\n",
       "\t<tr><td>Afghanistan</td><td>Asia       </td><td>1977       </td><td>38.438     </td><td>14880372   </td><td>786.1134   </td><td>11697659231</td></tr>\n",
       "</tbody>\n",
       "</table>\n"
      ],
      "text/latex": [
       "\\begin{tabular}{r|lllllll}\n",
       " country & continent & year & lifeExp & pop & gdpPercap & gdp\\\\\n",
       "\\hline\n",
       "\t Afghanistan & Asia        & 1952        & 28.801      &  8425333    & 779.4453    &  6567086330\\\\\n",
       "\t Afghanistan & Asia        & 1957        & 30.332      &  9240934    & 820.8530    &  7585448670\\\\\n",
       "\t Afghanistan & Asia        & 1962        & 31.997      & 10267083    & 853.1007    &  8758855797\\\\\n",
       "\t Afghanistan & Asia        & 1967        & 34.020      & 11537966    & 836.1971    &  9648014150\\\\\n",
       "\t Afghanistan & Asia        & 1972        & 36.088      & 13079460    & 739.9811    &  9678553274\\\\\n",
       "\t Afghanistan & Asia        & 1977        & 38.438      & 14880372    & 786.1134    & 11697659231\\\\\n",
       "\\end{tabular}\n"
      ],
      "text/markdown": [
       "\n",
       "country | continent | year | lifeExp | pop | gdpPercap | gdp | \n",
       "|---|---|---|---|---|---|\n",
       "| Afghanistan | Asia        | 1952        | 28.801      |  8425333    | 779.4453    |  6567086330 | \n",
       "| Afghanistan | Asia        | 1957        | 30.332      |  9240934    | 820.8530    |  7585448670 | \n",
       "| Afghanistan | Asia        | 1962        | 31.997      | 10267083    | 853.1007    |  8758855797 | \n",
       "| Afghanistan | Asia        | 1967        | 34.020      | 11537966    | 836.1971    |  9648014150 | \n",
       "| Afghanistan | Asia        | 1972        | 36.088      | 13079460    | 739.9811    |  9678553274 | \n",
       "| Afghanistan | Asia        | 1977        | 38.438      | 14880372    | 786.1134    | 11697659231 | \n",
       "\n",
       "\n"
      ],
      "text/plain": [
       "  country     continent year lifeExp pop      gdpPercap gdp        \n",
       "1 Afghanistan Asia      1952 28.801   8425333 779.4453   6567086330\n",
       "2 Afghanistan Asia      1957 30.332   9240934 820.8530   7585448670\n",
       "3 Afghanistan Asia      1962 31.997  10267083 853.1007   8758855797\n",
       "4 Afghanistan Asia      1967 34.020  11537966 836.1971   9648014150\n",
       "5 Afghanistan Asia      1972 36.088  13079460 739.9811   9678553274\n",
       "6 Afghanistan Asia      1977 38.438  14880372 786.1134  11697659231"
      ]
     },
     "metadata": {},
     "output_type": "display_data"
    }
   ],
   "source": [
    "new_gap <- gapminder %>%\n",
    "  mutate(gdp = pop * gdpPercap)\n",
    "head(new_gap)"
   ]
  },
  {
   "cell_type": "markdown",
   "metadata": {},
   "source": [
    "We will sort the data using `arrange`.  This function will sort ascending by default."
   ]
  },
  {
   "cell_type": "code",
   "execution_count": 8,
   "metadata": {
    "collapsed": false
   },
   "outputs": [
    {
     "data": {
      "text/html": [
       "<table>\n",
       "<thead><tr><th scope=col>country</th><th scope=col>continent</th><th scope=col>year</th><th scope=col>lifeExp</th><th scope=col>pop</th><th scope=col>gdpPercap</th><th scope=col>gdp</th></tr></thead>\n",
       "<tbody>\n",
       "\t<tr><td>Sao Tome and Principe</td><td>Africa               </td><td>1952                 </td><td>46.471               </td><td> 60011               </td><td> 879.5836            </td><td> 52784691            </td></tr>\n",
       "\t<tr><td>Sao Tome and Principe</td><td>Africa               </td><td>1957                 </td><td>48.945               </td><td> 61325               </td><td> 860.7369            </td><td> 52784691            </td></tr>\n",
       "\t<tr><td>Sao Tome and Principe</td><td>Africa               </td><td>1962                 </td><td>51.893               </td><td> 65345               </td><td>1071.5511            </td><td> 70020508            </td></tr>\n",
       "\t<tr><td>Equatorial Guinea    </td><td>Africa               </td><td>1952                 </td><td>34.482               </td><td>216964               </td><td> 375.6431            </td><td> 81501035            </td></tr>\n",
       "\t<tr><td>Sao Tome and Principe</td><td>Africa               </td><td>1967                 </td><td>54.425               </td><td> 70787               </td><td>1384.8406            </td><td> 98028711            </td></tr>\n",
       "\t<tr><td>Equatorial Guinea    </td><td>Africa               </td><td>1957                 </td><td>35.983               </td><td>232922               </td><td> 426.0964            </td><td> 99247228            </td></tr>\n",
       "\t<tr><td>Sao Tome and Principe</td><td>Africa               </td><td>1972                 </td><td>56.480               </td><td> 76595               </td><td>1532.9853            </td><td>117419006            </td></tr>\n",
       "\t<tr><td>Gambia               </td><td>Africa               </td><td>1952                 </td><td>30.000               </td><td>284320               </td><td> 485.2307            </td><td>137960781            </td></tr>\n",
       "\t<tr><td>Equatorial Guinea    </td><td>Africa               </td><td>1962                 </td><td>37.485               </td><td>249220               </td><td> 582.8420            </td><td>145255876            </td></tr>\n",
       "\t<tr><td>Sao Tome and Principe</td><td>Africa               </td><td>1977                 </td><td>58.550               </td><td> 86796               </td><td>1737.5617            </td><td>150813402            </td></tr>\n",
       "</tbody>\n",
       "</table>\n"
      ],
      "text/latex": [
       "\\begin{tabular}{r|lllllll}\n",
       " country & continent & year & lifeExp & pop & gdpPercap & gdp\\\\\n",
       "\\hline\n",
       "\t Sao Tome and Principe & Africa                & 1952                  & 46.471                &  60011                &  879.5836             &  52784691            \\\\\n",
       "\t Sao Tome and Principe & Africa                & 1957                  & 48.945                &  61325                &  860.7369             &  52784691            \\\\\n",
       "\t Sao Tome and Principe & Africa                & 1962                  & 51.893                &  65345                & 1071.5511             &  70020508            \\\\\n",
       "\t Equatorial Guinea     & Africa                & 1952                  & 34.482                & 216964                &  375.6431             &  81501035            \\\\\n",
       "\t Sao Tome and Principe & Africa                & 1967                  & 54.425                &  70787                & 1384.8406             &  98028711            \\\\\n",
       "\t Equatorial Guinea     & Africa                & 1957                  & 35.983                & 232922                &  426.0964             &  99247228            \\\\\n",
       "\t Sao Tome and Principe & Africa                & 1972                  & 56.480                &  76595                & 1532.9853             & 117419006            \\\\\n",
       "\t Gambia                & Africa                & 1952                  & 30.000                & 284320                &  485.2307             & 137960781            \\\\\n",
       "\t Equatorial Guinea     & Africa                & 1962                  & 37.485                & 249220                &  582.8420             & 145255876            \\\\\n",
       "\t Sao Tome and Principe & Africa                & 1977                  & 58.550                &  86796                & 1737.5617             & 150813402            \\\\\n",
       "\\end{tabular}\n"
      ],
      "text/markdown": [
       "\n",
       "country | continent | year | lifeExp | pop | gdpPercap | gdp | \n",
       "|---|---|---|---|---|---|---|---|---|---|\n",
       "| Sao Tome and Principe | Africa                | 1952                  | 46.471                |  60011                |  879.5836             |  52784691             | \n",
       "| Sao Tome and Principe | Africa                | 1957                  | 48.945                |  61325                |  860.7369             |  52784691             | \n",
       "| Sao Tome and Principe | Africa                | 1962                  | 51.893                |  65345                | 1071.5511             |  70020508             | \n",
       "| Equatorial Guinea     | Africa                | 1952                  | 34.482                | 216964                |  375.6431             |  81501035             | \n",
       "| Sao Tome and Principe | Africa                | 1967                  | 54.425                |  70787                | 1384.8406             |  98028711             | \n",
       "| Equatorial Guinea     | Africa                | 1957                  | 35.983                | 232922                |  426.0964             |  99247228             | \n",
       "| Sao Tome and Principe | Africa                | 1972                  | 56.480                |  76595                | 1532.9853             | 117419006             | \n",
       "| Gambia                | Africa                | 1952                  | 30.000                | 284320                |  485.2307             | 137960781             | \n",
       "| Equatorial Guinea     | Africa                | 1962                  | 37.485                | 249220                |  582.8420             | 145255876             | \n",
       "| Sao Tome and Principe | Africa                | 1977                  | 58.550                |  86796                | 1737.5617             | 150813402             | \n",
       "\n",
       "\n"
      ],
      "text/plain": [
       "   country               continent year lifeExp pop    gdpPercap gdp      \n",
       "1  Sao Tome and Principe Africa    1952 46.471   60011  879.5836  52784691\n",
       "2  Sao Tome and Principe Africa    1957 48.945   61325  860.7369  52784691\n",
       "3  Sao Tome and Principe Africa    1962 51.893   65345 1071.5511  70020508\n",
       "4  Equatorial Guinea     Africa    1952 34.482  216964  375.6431  81501035\n",
       "5  Sao Tome and Principe Africa    1967 54.425   70787 1384.8406  98028711\n",
       "6  Equatorial Guinea     Africa    1957 35.983  232922  426.0964  99247228\n",
       "7  Sao Tome and Principe Africa    1972 56.480   76595 1532.9853 117419006\n",
       "8  Gambia                Africa    1952 30.000  284320  485.2307 137960781\n",
       "9  Equatorial Guinea     Africa    1962 37.485  249220  582.8420 145255876\n",
       "10 Sao Tome and Principe Africa    1977 58.550   86796 1737.5617 150813402"
      ]
     },
     "metadata": {},
     "output_type": "display_data"
    }
   ],
   "source": [
    "new_gap %>%\n",
    "  arrange(gdp, year) %>%\n",
    "  head(10)"
   ]
  },
  {
   "cell_type": "markdown",
   "metadata": {},
   "source": [
    "If we want to sort in descending order, we can use the `desc()` function inside `arrange`.  The following example shows sorting by GDP descending and then year ascending."
   ]
  },
  {
   "cell_type": "code",
   "execution_count": 9,
   "metadata": {
    "collapsed": false
   },
   "outputs": [
    {
     "data": {
      "text/html": [
       "<table>\n",
       "<thead><tr><th scope=col>country</th><th scope=col>continent</th><th scope=col>year</th><th scope=col>lifeExp</th><th scope=col>pop</th><th scope=col>gdpPercap</th><th scope=col>gdp</th></tr></thead>\n",
       "<tbody>\n",
       "\t<tr><td>United States</td><td>Americas     </td><td>2007         </td><td>78.242       </td><td> 301139947   </td><td>42951.653    </td><td>1.293446e+13 </td></tr>\n",
       "\t<tr><td>United States</td><td>Americas     </td><td>2002         </td><td>77.310       </td><td> 287675526   </td><td>39097.100    </td><td>1.124728e+13 </td></tr>\n",
       "\t<tr><td>United States</td><td>Americas     </td><td>1997         </td><td>76.810       </td><td> 272911760   </td><td>35767.433    </td><td>9.761353e+12 </td></tr>\n",
       "\t<tr><td>United States</td><td>Americas     </td><td>1992         </td><td>76.090       </td><td> 256894189   </td><td>32003.932    </td><td>8.221624e+12 </td></tr>\n",
       "\t<tr><td>United States</td><td>Americas     </td><td>1987         </td><td>75.020       </td><td> 242803533   </td><td>29884.350    </td><td>7.256026e+12 </td></tr>\n",
       "\t<tr><td>China        </td><td>Asia         </td><td>2007         </td><td>72.961       </td><td>1318683096   </td><td> 4959.115    </td><td>6.539501e+12 </td></tr>\n",
       "\t<tr><td>United States</td><td>Americas     </td><td>1982         </td><td>74.650       </td><td> 232187835   </td><td>25009.559    </td><td>5.806915e+12 </td></tr>\n",
       "\t<tr><td>United States</td><td>Americas     </td><td>1977         </td><td>73.380       </td><td> 220239000   </td><td>24072.632    </td><td>5.301732e+12 </td></tr>\n",
       "\t<tr><td>United States</td><td>Americas     </td><td>1972         </td><td>71.340       </td><td> 209896000   </td><td>21806.036    </td><td>4.577000e+12 </td></tr>\n",
       "\t<tr><td>Japan        </td><td>Asia         </td><td>2007         </td><td>82.603       </td><td> 127467972   </td><td>31656.068    </td><td>4.035135e+12 </td></tr>\n",
       "</tbody>\n",
       "</table>\n"
      ],
      "text/latex": [
       "\\begin{tabular}{r|lllllll}\n",
       " country & continent & year & lifeExp & pop & gdpPercap & gdp\\\\\n",
       "\\hline\n",
       "\t United States & Americas      & 2007          & 78.242        &  301139947    & 42951.653     & 1.293446e+13 \\\\\n",
       "\t United States & Americas      & 2002          & 77.310        &  287675526    & 39097.100     & 1.124728e+13 \\\\\n",
       "\t United States & Americas      & 1997          & 76.810        &  272911760    & 35767.433     & 9.761353e+12 \\\\\n",
       "\t United States & Americas      & 1992          & 76.090        &  256894189    & 32003.932     & 8.221624e+12 \\\\\n",
       "\t United States & Americas      & 1987          & 75.020        &  242803533    & 29884.350     & 7.256026e+12 \\\\\n",
       "\t China         & Asia          & 2007          & 72.961        & 1318683096    &  4959.115     & 6.539501e+12 \\\\\n",
       "\t United States & Americas      & 1982          & 74.650        &  232187835    & 25009.559     & 5.806915e+12 \\\\\n",
       "\t United States & Americas      & 1977          & 73.380        &  220239000    & 24072.632     & 5.301732e+12 \\\\\n",
       "\t United States & Americas      & 1972          & 71.340        &  209896000    & 21806.036     & 4.577000e+12 \\\\\n",
       "\t Japan         & Asia          & 2007          & 82.603        &  127467972    & 31656.068     & 4.035135e+12 \\\\\n",
       "\\end{tabular}\n"
      ],
      "text/markdown": [
       "\n",
       "country | continent | year | lifeExp | pop | gdpPercap | gdp | \n",
       "|---|---|---|---|---|---|---|---|---|---|\n",
       "| United States | Americas      | 2007          | 78.242        |  301139947    | 42951.653     | 1.293446e+13  | \n",
       "| United States | Americas      | 2002          | 77.310        |  287675526    | 39097.100     | 1.124728e+13  | \n",
       "| United States | Americas      | 1997          | 76.810        |  272911760    | 35767.433     | 9.761353e+12  | \n",
       "| United States | Americas      | 1992          | 76.090        |  256894189    | 32003.932     | 8.221624e+12  | \n",
       "| United States | Americas      | 1987          | 75.020        |  242803533    | 29884.350     | 7.256026e+12  | \n",
       "| China         | Asia          | 2007          | 72.961        | 1318683096    |  4959.115     | 6.539501e+12  | \n",
       "| United States | Americas      | 1982          | 74.650        |  232187835    | 25009.559     | 5.806915e+12  | \n",
       "| United States | Americas      | 1977          | 73.380        |  220239000    | 24072.632     | 5.301732e+12  | \n",
       "| United States | Americas      | 1972          | 71.340        |  209896000    | 21806.036     | 4.577000e+12  | \n",
       "| Japan         | Asia          | 2007          | 82.603        |  127467972    | 31656.068     | 4.035135e+12  | \n",
       "\n",
       "\n"
      ],
      "text/plain": [
       "   country       continent year lifeExp pop        gdpPercap gdp         \n",
       "1  United States Americas  2007 78.242   301139947 42951.653 1.293446e+13\n",
       "2  United States Americas  2002 77.310   287675526 39097.100 1.124728e+13\n",
       "3  United States Americas  1997 76.810   272911760 35767.433 9.761353e+12\n",
       "4  United States Americas  1992 76.090   256894189 32003.932 8.221624e+12\n",
       "5  United States Americas  1987 75.020   242803533 29884.350 7.256026e+12\n",
       "6  China         Asia      2007 72.961  1318683096  4959.115 6.539501e+12\n",
       "7  United States Americas  1982 74.650   232187835 25009.559 5.806915e+12\n",
       "8  United States Americas  1977 73.380   220239000 24072.632 5.301732e+12\n",
       "9  United States Americas  1972 71.340   209896000 21806.036 4.577000e+12\n",
       "10 Japan         Asia      2007 82.603   127467972 31656.068 4.035135e+12"
      ]
     },
     "metadata": {},
     "output_type": "display_data"
    }
   ],
   "source": [
    "new_gap %>%\n",
    "  arrange(desc(gdp), continent) %>%\n",
    "  head(10)"
   ]
  },
  {
   "cell_type": "markdown",
   "metadata": {},
   "source": [
    "Grouping and summarizing data are vital to analysis.  The following code will group the data by continent and then include the count of observations per continent in the data frame."
   ]
  },
  {
   "cell_type": "code",
   "execution_count": 10,
   "metadata": {
    "collapsed": false
   },
   "outputs": [
    {
     "data": {
      "text/html": [
       "<table>\n",
       "<thead><tr><th scope=col>continent</th><th scope=col>n</th></tr></thead>\n",
       "<tbody>\n",
       "\t<tr><td>Africa  </td><td>624     </td></tr>\n",
       "\t<tr><td>Americas</td><td>300     </td></tr>\n",
       "\t<tr><td>Asia    </td><td>396     </td></tr>\n",
       "\t<tr><td>Europe  </td><td>360     </td></tr>\n",
       "\t<tr><td>Oceania </td><td> 24     </td></tr>\n",
       "</tbody>\n",
       "</table>\n"
      ],
      "text/latex": [
       "\\begin{tabular}{r|ll}\n",
       " continent & n\\\\\n",
       "\\hline\n",
       "\t Africa   & 624     \\\\\n",
       "\t Americas & 300     \\\\\n",
       "\t Asia     & 396     \\\\\n",
       "\t Europe   & 360     \\\\\n",
       "\t Oceania  &  24     \\\\\n",
       "\\end{tabular}\n"
      ],
      "text/markdown": [
       "\n",
       "continent | n | \n",
       "|---|---|---|---|---|\n",
       "| Africa   | 624      | \n",
       "| Americas | 300      | \n",
       "| Asia     | 396      | \n",
       "| Europe   | 360      | \n",
       "| Oceania  |  24      | \n",
       "\n",
       "\n"
      ],
      "text/plain": [
       "  continent n  \n",
       "1 Africa    624\n",
       "2 Americas  300\n",
       "3 Asia      396\n",
       "4 Europe    360\n",
       "5 Oceania    24"
      ]
     },
     "metadata": {},
     "output_type": "display_data"
    }
   ],
   "source": [
    "new_gap %>%\n",
    "  group_by(continent) %>%\n",
    "  summarize(n = n())"
   ]
  },
  {
   "cell_type": "markdown",
   "metadata": {},
   "source": [
    "We can use grouping and summarizing to look at data at a higher level of granularity than the data itself.  For example, the following code returns the average, by continent, of all life expectancies in the series."
   ]
  },
  {
   "cell_type": "code",
   "execution_count": 11,
   "metadata": {
    "collapsed": false
   },
   "outputs": [
    {
     "data": {
      "text/html": [
       "<table>\n",
       "<thead><tr><th scope=col>continent</th><th scope=col>avg_lifeExp</th></tr></thead>\n",
       "<tbody>\n",
       "\t<tr><td>Africa  </td><td>48.86533</td></tr>\n",
       "\t<tr><td>Americas</td><td>64.65874</td></tr>\n",
       "\t<tr><td>Asia    </td><td>60.06490</td></tr>\n",
       "\t<tr><td>Europe  </td><td>71.90369</td></tr>\n",
       "\t<tr><td>Oceania </td><td>74.32621</td></tr>\n",
       "</tbody>\n",
       "</table>\n"
      ],
      "text/latex": [
       "\\begin{tabular}{r|ll}\n",
       " continent & avg\\_lifeExp\\\\\n",
       "\\hline\n",
       "\t Africa   & 48.86533\\\\\n",
       "\t Americas & 64.65874\\\\\n",
       "\t Asia     & 60.06490\\\\\n",
       "\t Europe   & 71.90369\\\\\n",
       "\t Oceania  & 74.32621\\\\\n",
       "\\end{tabular}\n"
      ],
      "text/markdown": [
       "\n",
       "continent | avg_lifeExp | \n",
       "|---|---|---|---|---|\n",
       "| Africa   | 48.86533 | \n",
       "| Americas | 64.65874 | \n",
       "| Asia     | 60.06490 | \n",
       "| Europe   | 71.90369 | \n",
       "| Oceania  | 74.32621 | \n",
       "\n",
       "\n"
      ],
      "text/plain": [
       "  continent avg_lifeExp\n",
       "1 Africa    48.86533   \n",
       "2 Americas  64.65874   \n",
       "3 Asia      60.06490   \n",
       "4 Europe    71.90369   \n",
       "5 Oceania   74.32621   "
      ]
     },
     "metadata": {},
     "output_type": "display_data"
    }
   ],
   "source": [
    "new_gap %>%\n",
    "  group_by(continent) %>%\n",
    "  summarize(avg_lifeExp = mean(lifeExp))"
   ]
  },
  {
   "cell_type": "markdown",
   "metadata": {},
   "source": [
    "We can see the value of the pipe operator even more clearly in the following examples as we filter down to a specific year first and then group and summarize the data to generate life expectancies by continent for a particular year.  First, 1952:"
   ]
  },
  {
   "cell_type": "code",
   "execution_count": 12,
   "metadata": {
    "collapsed": false
   },
   "outputs": [
    {
     "data": {
      "text/html": [
       "<table>\n",
       "<thead><tr><th scope=col>continent</th><th scope=col>avg_lifeExp</th></tr></thead>\n",
       "<tbody>\n",
       "\t<tr><td>Africa  </td><td>39.13550</td></tr>\n",
       "\t<tr><td>Americas</td><td>53.27984</td></tr>\n",
       "\t<tr><td>Asia    </td><td>46.31439</td></tr>\n",
       "\t<tr><td>Europe  </td><td>64.40850</td></tr>\n",
       "\t<tr><td>Oceania </td><td>69.25500</td></tr>\n",
       "</tbody>\n",
       "</table>\n"
      ],
      "text/latex": [
       "\\begin{tabular}{r|ll}\n",
       " continent & avg\\_lifeExp\\\\\n",
       "\\hline\n",
       "\t Africa   & 39.13550\\\\\n",
       "\t Americas & 53.27984\\\\\n",
       "\t Asia     & 46.31439\\\\\n",
       "\t Europe   & 64.40850\\\\\n",
       "\t Oceania  & 69.25500\\\\\n",
       "\\end{tabular}\n"
      ],
      "text/markdown": [
       "\n",
       "continent | avg_lifeExp | \n",
       "|---|---|---|---|---|\n",
       "| Africa   | 39.13550 | \n",
       "| Americas | 53.27984 | \n",
       "| Asia     | 46.31439 | \n",
       "| Europe   | 64.40850 | \n",
       "| Oceania  | 69.25500 | \n",
       "\n",
       "\n"
      ],
      "text/plain": [
       "  continent avg_lifeExp\n",
       "1 Africa    39.13550   \n",
       "2 Americas  53.27984   \n",
       "3 Asia      46.31439   \n",
       "4 Europe    64.40850   \n",
       "5 Oceania   69.25500   "
      ]
     },
     "metadata": {},
     "output_type": "display_data"
    }
   ],
   "source": [
    "new_gap %>%\n",
    "  filter(year == 1952) %>%\n",
    "  group_by(continent) %>%\n",
    "  summarize(avg_lifeExp = mean(lifeExp))"
   ]
  },
  {
   "cell_type": "markdown",
   "metadata": {},
   "source": [
    "Now 2007:"
   ]
  },
  {
   "cell_type": "code",
   "execution_count": 13,
   "metadata": {
    "collapsed": false
   },
   "outputs": [
    {
     "data": {
      "text/html": [
       "<table>\n",
       "<thead><tr><th scope=col>continent</th><th scope=col>avg_lifeExp</th></tr></thead>\n",
       "<tbody>\n",
       "\t<tr><td>Africa  </td><td>54.80604</td></tr>\n",
       "\t<tr><td>Americas</td><td>73.60812</td></tr>\n",
       "\t<tr><td>Asia    </td><td>70.72848</td></tr>\n",
       "\t<tr><td>Europe  </td><td>77.64860</td></tr>\n",
       "\t<tr><td>Oceania </td><td>80.71950</td></tr>\n",
       "</tbody>\n",
       "</table>\n"
      ],
      "text/latex": [
       "\\begin{tabular}{r|ll}\n",
       " continent & avg\\_lifeExp\\\\\n",
       "\\hline\n",
       "\t Africa   & 54.80604\\\\\n",
       "\t Americas & 73.60812\\\\\n",
       "\t Asia     & 70.72848\\\\\n",
       "\t Europe   & 77.64860\\\\\n",
       "\t Oceania  & 80.71950\\\\\n",
       "\\end{tabular}\n"
      ],
      "text/markdown": [
       "\n",
       "continent | avg_lifeExp | \n",
       "|---|---|---|---|---|\n",
       "| Africa   | 54.80604 | \n",
       "| Americas | 73.60812 | \n",
       "| Asia     | 70.72848 | \n",
       "| Europe   | 77.64860 | \n",
       "| Oceania  | 80.71950 | \n",
       "\n",
       "\n"
      ],
      "text/plain": [
       "  continent avg_lifeExp\n",
       "1 Africa    54.80604   \n",
       "2 Americas  73.60812   \n",
       "3 Asia      70.72848   \n",
       "4 Europe    77.64860   \n",
       "5 Oceania   80.71950   "
      ]
     },
     "metadata": {},
     "output_type": "display_data"
    }
   ],
   "source": [
    "new_gap %>%\n",
    "  filter(year == 2007) %>%\n",
    "  group_by(continent) %>%\n",
    "  summarize(avg_lifeExp = mean(lifeExp))"
   ]
  },
  {
   "cell_type": "markdown",
   "metadata": {},
   "source": [
    "Let's put it all together and look for the single biggest drop in life expectancy by continent from one year to the next.  We will use the `lag()` function to look at the previous record in a particular window (i.e., continent-country pair, sorted by year).  This also allows us to see the `top_n()` function."
   ]
  },
  {
   "cell_type": "code",
   "execution_count": 14,
   "metadata": {
    "collapsed": false
   },
   "outputs": [
    {
     "data": {
      "text/html": [
       "<table>\n",
       "<thead><tr><th scope=col>continent</th><th scope=col>country</th><th scope=col>worst_le_delta</th></tr></thead>\n",
       "<tbody>\n",
       "\t<tr><td>Africa     </td><td>Rwanda     </td><td>-20.421    </td></tr>\n",
       "\t<tr><td>Asia       </td><td>Cambodia   </td><td> -9.097    </td></tr>\n",
       "\t<tr><td>Americas   </td><td>El Salvador</td><td> -1.511    </td></tr>\n",
       "\t<tr><td>Europe     </td><td>Montenegro </td><td> -1.464    </td></tr>\n",
       "\t<tr><td>Oceania    </td><td>Australia  </td><td>  0.170    </td></tr>\n",
       "</tbody>\n",
       "</table>\n"
      ],
      "text/latex": [
       "\\begin{tabular}{r|lll}\n",
       " continent & country & worst\\_le\\_delta\\\\\n",
       "\\hline\n",
       "\t Africa      & Rwanda      & -20.421    \\\\\n",
       "\t Asia        & Cambodia    &  -9.097    \\\\\n",
       "\t Americas    & El Salvador &  -1.511    \\\\\n",
       "\t Europe      & Montenegro  &  -1.464    \\\\\n",
       "\t Oceania     & Australia   &   0.170    \\\\\n",
       "\\end{tabular}\n"
      ],
      "text/markdown": [
       "\n",
       "continent | country | worst_le_delta | \n",
       "|---|---|---|---|---|\n",
       "| Africa      | Rwanda      | -20.421     | \n",
       "| Asia        | Cambodia    |  -9.097     | \n",
       "| Americas    | El Salvador |  -1.511     | \n",
       "| Europe      | Montenegro  |  -1.464     | \n",
       "| Oceania     | Australia   |   0.170     | \n",
       "\n",
       "\n"
      ],
      "text/plain": [
       "  continent country     worst_le_delta\n",
       "1 Africa    Rwanda      -20.421       \n",
       "2 Asia      Cambodia     -9.097       \n",
       "3 Americas  El Salvador  -1.511       \n",
       "4 Europe    Montenegro   -1.464       \n",
       "5 Oceania   Australia     0.170       "
      ]
     },
     "metadata": {},
     "output_type": "display_data"
    }
   ],
   "source": [
    "new_gap %>%\n",
    "  select(country, year, continent, lifeExp) %>%\n",
    "  group_by(continent, country) %>%\n",
    "  ## within country, take (lifeExp in year i) - (lifeExp in year i - 1)\n",
    "  ## positive means lifeExp went up, negative means it went down\n",
    "  mutate(le_delta = lifeExp - lag(lifeExp)) %>% \n",
    "  ## within country, retain the worst lifeExp change = smallest or most negative\n",
    "  summarize(worst_le_delta = min(le_delta, na.rm = TRUE))  %>% \n",
    "  ## within continent, retain the row with the lowest worst_le_delta\n",
    "  top_n(1, wt = -1 * worst_le_delta) %>% \n",
    "  arrange(worst_le_delta)"
   ]
  },
  {
   "cell_type": "markdown",
   "metadata": {},
   "source": [
    "Let's follow that up by looking at the largest single-year gains in life expectancy by continent."
   ]
  },
  {
   "cell_type": "code",
   "execution_count": 15,
   "metadata": {
    "collapsed": false
   },
   "outputs": [
    {
     "data": {
      "text/html": [
       "<table>\n",
       "<thead><tr><th scope=col>continent</th><th scope=col>country</th><th scope=col>best_le_delta</th></tr></thead>\n",
       "<tbody>\n",
       "\t<tr><td>Oceania    </td><td>New Zealand</td><td> 2.010     </td></tr>\n",
       "\t<tr><td>Americas   </td><td>El Salvador</td><td> 6.550     </td></tr>\n",
       "\t<tr><td>Europe     </td><td>Bulgaria   </td><td> 7.010     </td></tr>\n",
       "\t<tr><td>Africa     </td><td>Rwanda     </td><td>12.488     </td></tr>\n",
       "\t<tr><td>Asia       </td><td>Cambodia   </td><td>19.737     </td></tr>\n",
       "</tbody>\n",
       "</table>\n"
      ],
      "text/latex": [
       "\\begin{tabular}{r|lll}\n",
       " continent & country & best\\_le\\_delta\\\\\n",
       "\\hline\n",
       "\t Oceania     & New Zealand &  2.010     \\\\\n",
       "\t Americas    & El Salvador &  6.550     \\\\\n",
       "\t Europe      & Bulgaria    &  7.010     \\\\\n",
       "\t Africa      & Rwanda      & 12.488     \\\\\n",
       "\t Asia        & Cambodia    & 19.737     \\\\\n",
       "\\end{tabular}\n"
      ],
      "text/markdown": [
       "\n",
       "continent | country | best_le_delta | \n",
       "|---|---|---|---|---|\n",
       "| Oceania     | New Zealand |  2.010      | \n",
       "| Americas    | El Salvador |  6.550      | \n",
       "| Europe      | Bulgaria    |  7.010      | \n",
       "| Africa      | Rwanda      | 12.488      | \n",
       "| Asia        | Cambodia    | 19.737      | \n",
       "\n",
       "\n"
      ],
      "text/plain": [
       "  continent country     best_le_delta\n",
       "1 Oceania   New Zealand  2.010       \n",
       "2 Americas  El Salvador  6.550       \n",
       "3 Europe    Bulgaria     7.010       \n",
       "4 Africa    Rwanda      12.488       \n",
       "5 Asia      Cambodia    19.737       "
      ]
     },
     "metadata": {},
     "output_type": "display_data"
    }
   ],
   "source": [
    "new_gap %>%\n",
    "  select(country, year, continent, lifeExp) %>%\n",
    "  group_by(continent, country) %>%\n",
    "  mutate(le_delta = lifeExp - lag(lifeExp)) %>% \n",
    "  summarize(best_le_delta = max(le_delta, na.rm = TRUE)) %>% \n",
    "  top_n(1, wt = best_le_delta) %>% \n",
    "  arrange(best_le_delta)"
   ]
  },
  {
   "cell_type": "markdown",
   "metadata": {},
   "source": [
    "To wrap this up, what are the biggest single-year gains in GDP by continent?"
   ]
  },
  {
   "cell_type": "code",
   "execution_count": 16,
   "metadata": {
    "collapsed": false
   },
   "outputs": [
    {
     "data": {
      "text/html": [
       "<table>\n",
       "<thead><tr><th scope=col>continent</th><th scope=col>country</th><th scope=col>best_gdp_delta</th></tr></thead>\n",
       "<tbody>\n",
       "\t<tr><td>Oceania            </td><td>Australia          </td><td> 3747.613          </td></tr>\n",
       "\t<tr><td>Americas           </td><td>Trinidad and Tobago</td><td> 6547.909          </td></tr>\n",
       "\t<tr><td>Europe             </td><td>Ireland            </td><td> 9555.102          </td></tr>\n",
       "\t<tr><td>Africa             </td><td>Libya              </td><td>12015.721          </td></tr>\n",
       "\t<tr><td>Asia               </td><td>Kuwait             </td><td>28452.984          </td></tr>\n",
       "</tbody>\n",
       "</table>\n"
      ],
      "text/latex": [
       "\\begin{tabular}{r|lll}\n",
       " continent & country & best\\_gdp\\_delta\\\\\n",
       "\\hline\n",
       "\t Oceania             & Australia           &  3747.613          \\\\\n",
       "\t Americas            & Trinidad and Tobago &  6547.909          \\\\\n",
       "\t Europe              & Ireland             &  9555.102          \\\\\n",
       "\t Africa              & Libya               & 12015.721          \\\\\n",
       "\t Asia                & Kuwait              & 28452.984          \\\\\n",
       "\\end{tabular}\n"
      ],
      "text/markdown": [
       "\n",
       "continent | country | best_gdp_delta | \n",
       "|---|---|---|---|---|\n",
       "| Oceania             | Australia           |  3747.613           | \n",
       "| Americas            | Trinidad and Tobago |  6547.909           | \n",
       "| Europe              | Ireland             |  9555.102           | \n",
       "| Africa              | Libya               | 12015.721           | \n",
       "| Asia                | Kuwait              | 28452.984           | \n",
       "\n",
       "\n"
      ],
      "text/plain": [
       "  continent country             best_gdp_delta\n",
       "1 Oceania   Australia            3747.613     \n",
       "2 Americas  Trinidad and Tobago  6547.909     \n",
       "3 Europe    Ireland              9555.102     \n",
       "4 Africa    Libya               12015.721     \n",
       "5 Asia      Kuwait              28452.984     "
      ]
     },
     "metadata": {},
     "output_type": "display_data"
    }
   ],
   "source": [
    "new_gap %>%\n",
    "  select(country, year, continent, gdpPercap) %>%\n",
    "  group_by(continent, country) %>%\n",
    "  mutate(gdp_delta = gdpPercap - lag(gdpPercap)) %>% \n",
    "  summarize(best_gdp_delta = max(gdp_delta, na.rm = TRUE)) %>% \n",
    "  top_n(1, wt = best_gdp_delta) %>% \n",
    "  arrange(best_gdp_delta)"
   ]
  },
  {
   "cell_type": "code",
   "execution_count": null,
   "metadata": {
    "collapsed": true
   },
   "outputs": [],
   "source": []
  }
 ],
 "metadata": {
  "kernelspec": {
   "display_name": "R",
   "language": "R",
   "name": "ir"
  },
  "language_info": {
   "codemirror_mode": "r",
   "file_extension": ".r",
   "mimetype": "text/x-r-source",
   "name": "R",
   "pygments_lexer": "r",
   "version": "3.3.2"
  }
 },
 "nbformat": 4,
 "nbformat_minor": 2
}
